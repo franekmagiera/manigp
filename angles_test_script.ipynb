{
 "cells": [
  {
   "cell_type": "code",
   "execution_count": 1,
   "metadata": {},
   "outputs": [],
   "source": [
    "from methods.ManiGPClassifier import ManiGPClassifier"
   ]
  },
  {
   "cell_type": "code",
   "execution_count": 2,
   "metadata": {},
   "outputs": [],
   "source": [
    "from read_file import read_file"
   ]
  },
  {
   "cell_type": "code",
   "execution_count": 3,
   "metadata": {},
   "outputs": [],
   "source": [
    "X, y, label_names = read_file('appendicitis.tsv')"
   ]
  },
  {
   "cell_type": "code",
   "execution_count": 4,
   "metadata": {},
   "outputs": [
    {
     "data": {
      "text/html": [
       "<div>\n",
       "<style scoped>\n",
       "    .dataframe tbody tr th:only-of-type {\n",
       "        vertical-align: middle;\n",
       "    }\n",
       "\n",
       "    .dataframe tbody tr th {\n",
       "        vertical-align: top;\n",
       "    }\n",
       "\n",
       "    .dataframe thead th {\n",
       "        text-align: right;\n",
       "    }\n",
       "</style>\n",
       "<table border=\"1\" class=\"dataframe\">\n",
       "  <thead>\n",
       "    <tr style=\"text-align: right;\">\n",
       "      <th></th>\n",
       "      <th>0</th>\n",
       "      <th>1</th>\n",
       "      <th>2</th>\n",
       "      <th>3</th>\n",
       "      <th>4</th>\n",
       "      <th>5</th>\n",
       "      <th>6</th>\n",
       "    </tr>\n",
       "  </thead>\n",
       "  <tbody>\n",
       "    <tr>\n",
       "      <th>0</th>\n",
       "      <td>-0.766284</td>\n",
       "      <td>-0.844828</td>\n",
       "      <td>-0.877095</td>\n",
       "      <td>-0.592292</td>\n",
       "      <td>-0.636620</td>\n",
       "      <td>0.019589</td>\n",
       "      <td>-0.713568</td>\n",
       "    </tr>\n",
       "    <tr>\n",
       "      <th>1</th>\n",
       "      <td>0.172414</td>\n",
       "      <td>-0.155172</td>\n",
       "      <td>0.094972</td>\n",
       "      <td>-0.141988</td>\n",
       "      <td>-0.061972</td>\n",
       "      <td>-0.011753</td>\n",
       "      <td>0.154774</td>\n",
       "    </tr>\n",
       "    <tr>\n",
       "      <th>2</th>\n",
       "      <td>-1.191571</td>\n",
       "      <td>-1.000000</td>\n",
       "      <td>-1.234637</td>\n",
       "      <td>-0.365112</td>\n",
       "      <td>-0.512676</td>\n",
       "      <td>-0.932419</td>\n",
       "      <td>-1.252261</td>\n",
       "    </tr>\n",
       "    <tr>\n",
       "      <th>3</th>\n",
       "      <td>-0.865900</td>\n",
       "      <td>-2.387931</td>\n",
       "      <td>-1.256983</td>\n",
       "      <td>-0.365112</td>\n",
       "      <td>-0.473239</td>\n",
       "      <td>-2.393732</td>\n",
       "      <td>-1.256281</td>\n",
       "    </tr>\n",
       "    <tr>\n",
       "      <th>4</th>\n",
       "      <td>-0.678161</td>\n",
       "      <td>0.232759</td>\n",
       "      <td>-0.571695</td>\n",
       "      <td>-0.141988</td>\n",
       "      <td>-0.264789</td>\n",
       "      <td>0.047013</td>\n",
       "      <td>-0.629146</td>\n",
       "    </tr>\n",
       "  </tbody>\n",
       "</table>\n",
       "</div>"
      ],
      "text/plain": [
       "          0         1         2         3         4         5         6\n",
       "0 -0.766284 -0.844828 -0.877095 -0.592292 -0.636620  0.019589 -0.713568\n",
       "1  0.172414 -0.155172  0.094972 -0.141988 -0.061972 -0.011753  0.154774\n",
       "2 -1.191571 -1.000000 -1.234637 -0.365112 -0.512676 -0.932419 -1.252261\n",
       "3 -0.865900 -2.387931 -1.256983 -0.365112 -0.473239 -2.393732 -1.256281\n",
       "4 -0.678161  0.232759 -0.571695 -0.141988 -0.264789  0.047013 -0.629146"
      ]
     },
     "execution_count": 4,
     "metadata": {},
     "output_type": "execute_result"
    }
   ],
   "source": [
    "X.head()"
   ]
  },
  {
   "cell_type": "code",
   "execution_count": 5,
   "metadata": {},
   "outputs": [
    {
     "data": {
      "text/plain": [
       "array([1, 1, 1, 1, 1, 1, 1, 1, 1, 1, 1, 1, 1, 1, 1, 1, 1, 1, 1, 1, 1, 0,\n",
       "       0, 0, 0, 0, 0, 0, 0, 0, 0, 0, 0, 0, 0, 0, 0, 0, 0, 0, 0, 0, 0, 0,\n",
       "       0, 0, 0, 0, 0, 0, 0, 0, 0, 0, 0, 0, 0, 0, 0, 0, 0, 0, 0, 0, 0, 0,\n",
       "       0, 0, 0, 0, 0, 0, 0, 0, 0, 0, 0, 0, 0, 0, 0, 0, 0, 0, 0, 0, 0, 0,\n",
       "       0, 0, 0, 0, 0, 0, 0, 0, 0, 0, 0, 0, 0, 0, 0, 0, 0, 0], dtype=int64)"
      ]
     },
     "execution_count": 5,
     "metadata": {},
     "output_type": "execute_result"
    }
   ],
   "source": [
    "y"
   ]
  },
  {
   "cell_type": "code",
   "execution_count": 6,
   "metadata": {},
   "outputs": [
    {
     "data": {
      "text/plain": [
       "array(['At1', 'At2', 'At3', 'At4', 'At5', 'At6', 'At7'], dtype='<U3')"
      ]
     },
     "execution_count": 6,
     "metadata": {},
     "output_type": "execute_result"
    }
   ],
   "source": [
    "label_names"
   ]
  },
  {
   "cell_type": "code",
   "execution_count": 7,
   "metadata": {},
   "outputs": [],
   "source": [
    "# Angles classifier\n",
    "manigpclf = ManiGPClassifier(n_iter=500, fitness_function=\"angles\",pop_size=100)"
   ]
  },
  {
   "cell_type": "code",
   "execution_count": 8,
   "metadata": {},
   "outputs": [],
   "source": [
    "from sklearn.model_selection import train_test_split"
   ]
  },
  {
   "cell_type": "code",
   "execution_count": 9,
   "metadata": {},
   "outputs": [],
   "source": [
    "X_train, X_test, y_train, y_test = train_test_split(X, y,\n",
    "                                                        train_size=0.75,\n",
    "                                                        test_size=0.25,\n",
    "                                                        stratify=y,\n",
    "                                                        random_state=None)"
   ]
  },
  {
   "cell_type": "code",
   "execution_count": 10,
   "metadata": {},
   "outputs": [],
   "source": [
    "manigpclf.fit(X_train, y_train)"
   ]
  },
  {
   "cell_type": "code",
   "execution_count": 11,
   "metadata": {},
   "outputs": [
    {
     "data": {
      "text/plain": [
       "('subtract(multiply(x2, 1.0), gt(addition(0.0, 1.0), permute(x6, 0.0)))',\n",
       " 'addition(max(multiply(gt(x0, x1), subtract(x3, x6)), modulus(abs(5.086143481639882), lt(x6, x5))), left(x6, safediv(xor(x4, x2), right(1.0, x0))))',\n",
       " 3,\n",
       " 4)"
      ]
     },
     "execution_count": 11,
     "metadata": {},
     "output_type": "execute_result"
    }
   ],
   "source": [
    "from operator import attrgetter\n",
    "get_height = lambda tree : attrgetter('height')(tree)\n",
    "str(manigpclf.model[0]), str(manigpclf.model[1]), get_height(manigpclf.model[0]), get_height(manigpclf.model[1])"
   ]
  },
  {
   "cell_type": "code",
   "execution_count": 12,
   "metadata": {},
   "outputs": [],
   "source": [
    "X_train_reduced = manigpclf.reduce(manigpclf.model, X_train)"
   ]
  },
  {
   "cell_type": "code",
   "execution_count": 13,
   "metadata": {},
   "outputs": [],
   "source": [
    "import matplotlib.pyplot as plt"
   ]
  },
  {
   "cell_type": "code",
   "execution_count": 14,
   "metadata": {},
   "outputs": [],
   "source": [
    "def plot(X, y): # 2 classes only\n",
    "    if (len(X.shape) != 2 or X.shape[1] != 2):\n",
    "        return\n",
    "    plt.scatter(X[y==0][:, 0], X[y==0][:, 1], s=2**6, c='r', alpha=0.33, label='0')\n",
    "    plt.scatter(X[y==1][:, 0], X[y==1][:, 1], c='b', marker='^', alpha=0.33, label='1')\n",
    "    plt.legend()\n",
    "\n",
    "def plot3classes(X,y):\n",
    "    plt.scatter(X[y==0][:, 0], X[y==0][:, 1], s=2**6, c='r', alpha=0.33, label='0')\n",
    "    plt.scatter(X[y==1][:, 0], X[y==1][:, 1], c='b', marker='^', alpha=0.33, label='1')\n",
    "    plt.scatter(X[y==2][:, 0], X[y==2][:, 1], c='g', marker='d', alpha=0.33, label='2')\n",
    "    plt.legend()"
   ]
  },
  {
   "cell_type": "code",
   "execution_count": 15,
   "metadata": {},
   "outputs": [],
   "source": [
    "%matplotlib inline"
   ]
  },
  {
   "cell_type": "code",
   "execution_count": 16,
   "metadata": {
    "scrolled": true
   },
   "outputs": [
    {
     "data": {
      "image/png": "[encoded data removed]",
      "text/plain": [
       "<Figure size 432x288 with 1 Axes>"
      ]
     },
     "metadata": {
      "needs_background": "light"
     },
     "output_type": "display_data"
    }
   ],
   "source": [
    "plot(X_train_reduced, y_train)"
   ]
  },
  {
   "cell_type": "code",
   "execution_count": 17,
   "metadata": {},
   "outputs": [
    {
     "data": {
      "text/plain": [
       "0.8903769841269842"
      ]
     },
     "execution_count": 17,
     "metadata": {},
     "output_type": "execute_result"
    }
   ],
   "source": [
    "manigpclf.evaluate(manigpclf.model, X_train, y_train, manigpclf.random_state)"
   ]
  },
  {
   "cell_type": "code",
   "execution_count": 18,
   "metadata": {},
   "outputs": [],
   "source": [
    "#-------------------------------------------------"
   ]
  },
  {
   "cell_type": "code",
   "execution_count": null,
   "metadata": {},
   "outputs": [],
   "source": []
  },
  {
   "cell_type": "code",
   "execution_count": 19,
   "metadata": {},
   "outputs": [],
   "source": [
    "X_test_reduced = manigpclf.reduce(manigpclf.model, X_test)"
   ]
  },
  {
   "cell_type": "code",
   "execution_count": 20,
   "metadata": {},
   "outputs": [
    {
     "data": {
      "image/png": "[encoded data removed]",
      "text/plain": [
       "<Figure size 432x288 with 1 Axes>"
      ]
     },
     "metadata": {
      "needs_background": "light"
     },
     "output_type": "display_data"
    }
   ],
   "source": [
    "plot(X_test_reduced, y_test)"
   ]
  },
  {
   "cell_type": "code",
   "execution_count": 21,
   "metadata": {},
   "outputs": [],
   "source": [
    "from utils.metrics import balanced_accuracy_score"
   ]
  },
  {
   "cell_type": "code",
   "execution_count": 22,
   "metadata": {},
   "outputs": [
    {
     "data": {
      "text/plain": [
       "0.6727272727272727"
      ]
     },
     "execution_count": 22,
     "metadata": {},
     "output_type": "execute_result"
    }
   ],
   "source": [
    "balanced_accuracy_score(y_test, manigpclf.predict(X_test))"
   ]
  },
  {
   "cell_type": "code",
   "execution_count": 23,
   "metadata": {},
   "outputs": [
    {
     "data": {
      "text/plain": [
       "29394"
      ]
     },
     "execution_count": 23,
     "metadata": {},
     "output_type": "execute_result"
    }
   ],
   "source": [
    "manigpclf.rejected"
   ]
  },
  {
   "cell_type": "code",
   "execution_count": 24,
   "metadata": {},
   "outputs": [
    {
     "data": {
      "text/plain": [
       "47992"
      ]
     },
     "execution_count": 24,
     "metadata": {},
     "output_type": "execute_result"
    }
   ],
   "source": [
    "manigpclf.mut_count"
   ]
  },
  {
   "cell_type": "code",
   "execution_count": 25,
   "metadata": {},
   "outputs": [
    {
     "data": {
      "text/plain": [
       "2401"
      ]
     },
     "execution_count": 25,
     "metadata": {},
     "output_type": "execute_result"
    }
   ],
   "source": [
    "manigpclf.cx_count"
   ]
  },
  {
   "cell_type": "code",
   "execution_count": null,
   "metadata": {},
   "outputs": [],
   "source": []
  },
  {
   "cell_type": "code",
   "execution_count": 26,
   "metadata": {},
   "outputs": [
    {
     "data": {
      "text/plain": [
       "array([[-5.77281192e-01,  3.41419864e-01],\n",
       "       [-1.10242086e+00,  2.51521298e-01],\n",
       "       [-1.62011173e+00,  7.58620690e-01],\n",
       "       [-2.23463687e+00, -3.65111562e-01],\n",
       "       [-8.52886406e-01,  3.18721249e-02],\n",
       "       [-2.83054004e-01,  1.81809045e+00],\n",
       "       [-9.05027933e-01,  1.15477387e+00],\n",
       "       [-8.19366853e-01,  7.58620690e-01],\n",
       "       [-8.37988827e-01,  2.85138457e-01],\n",
       "       [-2.46182495e+00,  1.94320487e+00],\n",
       "       [-6.21973929e-01,  1.35577889e+00],\n",
       "       [-1.18435754e+00,  1.05829146e+00],\n",
       "       [-2.64432030e-01,  1.73768844e+00],\n",
       "       [-1.33705773e+00,  6.84422111e-01],\n",
       "       [-2.07821229e+00, -1.19597990e-01],\n",
       "       [-6.03351955e-01,  1.64522613e+00],\n",
       "       [-1.26629423e+00,  9.17587940e-01],\n",
       "       [-1.44878957e+00,  5.03517588e-01],\n",
       "       [-8.86405959e-01,  1.03417085e+00],\n",
       "       [-7.56052142e-01,  1.17487437e+00],\n",
       "       [-4.44089210e-16,  2.17587940e+00],\n",
       "       [-2.15642458e+00, -2.04020101e-01],\n",
       "       [-8.23091248e-01,  4.78701826e-01],\n",
       "       [-6.33147114e-01,  3.53480165e-01],\n",
       "       [-2.64804469e+00, -1.51184647e+00],\n",
       "       [-1.57169460e+00, -1.41987830e-01],\n",
       "       [-1.33705773e+00,  9.85801217e-01],\n",
       "       [-1.75046555e+00, -5.92292089e-01],\n",
       "       [-1.60521415e+00,  2.51521298e-01],\n",
       "       [-2.18994413e+00, -4.21906694e-01],\n",
       "       [ 1.07635009e+00,  3.42211055e+00],\n",
       "       [-1.96648045e+00,  5.02512563e-03],\n",
       "       [-1.56797020e+00,  1.66328600e+00],\n",
       "       [-2.36499069e+00, -3.60804020e-01],\n",
       "       [-2.24208566e+00, -1.55778894e-01],\n",
       "       [ 8.04469274e-01,  2.76683417e+00],\n",
       "       [-9.08752328e-01,  1.72575642e-01],\n",
       "       [-8.93854749e-01,  6.49087221e-01],\n",
       "       [-5.95903166e-01,  4.98203783e-01],\n",
       "       [-8.41713222e-01,  1.56495240e-01],\n",
       "       [-1.50465549e+00,  6.60301508e-01],\n",
       "       [ 3.98510242e-01,  2.63015075e+00],\n",
       "       [-1.34823091e+00,  5.11557789e-01],\n",
       "       [-1.87709497e+00, -6.27424358e-01],\n",
       "       [-2.43575419e+00, -4.01005025e-01],\n",
       "       [-1.42644320e+00,  6.16080402e-01],\n",
       "       [-1.06890130e+00,  1.12261307e+00],\n",
       "       [-8.52886406e-01,  6.49087221e-01],\n",
       "       [-1.30726257e+00,  2.51521298e-01],\n",
       "       [-2.07448790e+00,  2.11055276e-02],\n",
       "       [-3.42644320e-01,  1.44020101e+00],\n",
       "       [-8.60335196e-01,  2.56997753e-01],\n",
       "       [-1.15083799e+00,  8.09045226e-01],\n",
       "       [-2.56610801e+00, -5.29648241e-01],\n",
       "       [-7.00186220e-01,  4.45942477e-01],\n",
       "       [-6.14525140e-01,  1.37989950e+00],\n",
       "       [-9.79515829e-01,  1.18693467e+00],\n",
       "       [-7.56052142e-01,  1.53266332e+00],\n",
       "       [-6.21973929e-01,  1.25929648e+00],\n",
       "       [-1.10242086e+00,  1.94726166e-01],\n",
       "       [-2.22346369e+00,  1.94320487e+00],\n",
       "       [-1.05400372e+00,  9.81909548e-01],\n",
       "       [-1.14338920e+00,  9.93969849e-01],\n",
       "       [-5.28864060e-01,  1.54969574e+00],\n",
       "       [-4.50651769e-01,  1.89045226e+00],\n",
       "       [-2.06331471e+00,  2.27991886e+00],\n",
       "       [-6.70391061e-01,  4.21821874e-01],\n",
       "       [ 1.48975791e-02,  1.88643216e+00],\n",
       "       [-2.48044693e+00, -4.69346734e-01],\n",
       "       [-9.12476723e-01,  9.61809045e-01],\n",
       "       [-1.12849162e+00, -1.28931895e-01],\n",
       "       [-1.28864060e+00, -9.27509907e-02],\n",
       "       [-1.82495345e-01,  1.87839196e+00],\n",
       "       [-1.03165736e+00,  2.65037954e-01],\n",
       "       [ 3.20297952e-01,  2.21608040e+00],\n",
       "       [-5.10242086e-01,  1.70954774e+00],\n",
       "       [-6.07076350e-01,  1.39195980e+00],\n",
       "       [-3.01675978e-01,  1.77788945e+00],\n",
       "       [-5.47486034e-01,  1.48442211e+00]])"
      ]
     },
     "execution_count": 26,
     "metadata": {},
     "output_type": "execute_result"
    }
   ],
   "source": [
    "X_train_reduced"
   ]
  },
  {
   "cell_type": "code",
   "execution_count": 28,
   "metadata": {},
   "outputs": [],
   "source": []
  },
  {
   "cell_type": "code",
   "execution_count": null,
   "metadata": {},
   "outputs": [],
   "source": []
  },
  {
   "cell_type": "code",
   "execution_count": null,
   "metadata": {},
   "outputs": [],
   "source": []
  }
 ],
 "metadata": {
  "kernelspec": {
   "display_name": "Python 3",
   "language": "python",
   "name": "python3"
  },
  "language_info": {
   "codemirror_mode": {
    "name": "ipython",
    "version": 3
   },
   "file_extension": ".py",
   "mimetype": "text/x-python",
   "name": "python",
   "nbconvert_exporter": "python",
   "pygments_lexer": "ipython3",
   "version": "3.7.3"
  }
 },
 "nbformat": 4,
 "nbformat_minor": 2
}

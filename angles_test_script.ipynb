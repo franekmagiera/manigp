{
 "cells": [
  {
   "cell_type": "code",
   "execution_count": 1,
   "metadata": {},
   "outputs": [],
   "source": [
    "from methods.ManiGPClassifier import ManiGPClassifier"
   ]
  },
  {
   "cell_type": "code",
   "execution_count": 2,
   "metadata": {},
   "outputs": [],
   "source": [
    "from read_file import read_file"
   ]
  },
  {
   "cell_type": "code",
   "execution_count": 3,
   "metadata": {},
   "outputs": [],
   "source": [
    "X, y, label_names = read_file('appendicitis.tsv')"
   ]
  },
  {
   "cell_type": "code",
   "execution_count": 4,
   "metadata": {},
   "outputs": [
    {
     "data": {
      "text/html": [
       "<div>\n",
       "<style scoped>\n",
       "    .dataframe tbody tr th:only-of-type {\n",
       "        vertical-align: middle;\n",
       "    }\n",
       "\n",
       "    .dataframe tbody tr th {\n",
       "        vertical-align: top;\n",
       "    }\n",
       "\n",
       "    .dataframe thead th {\n",
       "        text-align: right;\n",
       "    }\n",
       "</style>\n",
       "<table border=\"1\" class=\"dataframe\">\n",
       "  <thead>\n",
       "    <tr style=\"text-align: right;\">\n",
       "      <th></th>\n",
       "      <th>0</th>\n",
       "      <th>1</th>\n",
       "      <th>2</th>\n",
       "      <th>3</th>\n",
       "      <th>4</th>\n",
       "      <th>5</th>\n",
       "      <th>6</th>\n",
       "    </tr>\n",
       "  </thead>\n",
       "  <tbody>\n",
       "    <tr>\n",
       "      <th>0</th>\n",
       "      <td>-0.766284</td>\n",
       "      <td>-0.844828</td>\n",
       "      <td>-0.877095</td>\n",
       "      <td>-0.592292</td>\n",
       "      <td>-0.636620</td>\n",
       "      <td>0.019589</td>\n",
       "      <td>-0.713568</td>\n",
       "    </tr>\n",
       "    <tr>\n",
       "      <th>1</th>\n",
       "      <td>0.172414</td>\n",
       "      <td>-0.155172</td>\n",
       "      <td>0.094972</td>\n",
       "      <td>-0.141988</td>\n",
       "      <td>-0.061972</td>\n",
       "      <td>-0.011753</td>\n",
       "      <td>0.154774</td>\n",
       "    </tr>\n",
       "    <tr>\n",
       "      <th>2</th>\n",
       "      <td>-1.191571</td>\n",
       "      <td>-1.000000</td>\n",
       "      <td>-1.234637</td>\n",
       "      <td>-0.365112</td>\n",
       "      <td>-0.512676</td>\n",
       "      <td>-0.932419</td>\n",
       "      <td>-1.252261</td>\n",
       "    </tr>\n",
       "    <tr>\n",
       "      <th>3</th>\n",
       "      <td>-0.865900</td>\n",
       "      <td>-2.387931</td>\n",
       "      <td>-1.256983</td>\n",
       "      <td>-0.365112</td>\n",
       "      <td>-0.473239</td>\n",
       "      <td>-2.393732</td>\n",
       "      <td>-1.256281</td>\n",
       "    </tr>\n",
       "    <tr>\n",
       "      <th>4</th>\n",
       "      <td>-0.678161</td>\n",
       "      <td>0.232759</td>\n",
       "      <td>-0.571695</td>\n",
       "      <td>-0.141988</td>\n",
       "      <td>-0.264789</td>\n",
       "      <td>0.047013</td>\n",
       "      <td>-0.629146</td>\n",
       "    </tr>\n",
       "  </tbody>\n",
       "</table>\n",
       "</div>"
      ],
      "text/plain": [
       "          0         1         2         3         4         5         6\n",
       "0 -0.766284 -0.844828 -0.877095 -0.592292 -0.636620  0.019589 -0.713568\n",
       "1  0.172414 -0.155172  0.094972 -0.141988 -0.061972 -0.011753  0.154774\n",
       "2 -1.191571 -1.000000 -1.234637 -0.365112 -0.512676 -0.932419 -1.252261\n",
       "3 -0.865900 -2.387931 -1.256983 -0.365112 -0.473239 -2.393732 -1.256281\n",
       "4 -0.678161  0.232759 -0.571695 -0.141988 -0.264789  0.047013 -0.629146"
      ]
     },
     "execution_count": 4,
     "metadata": {},
     "output_type": "execute_result"
    }
   ],
   "source": [
    "X.head()"
   ]
  },
  {
   "cell_type": "code",
   "execution_count": 5,
   "metadata": {},
   "outputs": [
    {
     "data": {
      "text/plain": [
       "array([1, 1, 1, 1, 1, 1, 1, 1, 1, 1, 1, 1, 1, 1, 1, 1, 1, 1, 1, 1, 1, 0,\n",
       "       0, 0, 0, 0, 0, 0, 0, 0, 0, 0, 0, 0, 0, 0, 0, 0, 0, 0, 0, 0, 0, 0,\n",
       "       0, 0, 0, 0, 0, 0, 0, 0, 0, 0, 0, 0, 0, 0, 0, 0, 0, 0, 0, 0, 0, 0,\n",
       "       0, 0, 0, 0, 0, 0, 0, 0, 0, 0, 0, 0, 0, 0, 0, 0, 0, 0, 0, 0, 0, 0,\n",
       "       0, 0, 0, 0, 0, 0, 0, 0, 0, 0, 0, 0, 0, 0, 0, 0, 0, 0], dtype=int64)"
      ]
     },
     "execution_count": 5,
     "metadata": {},
     "output_type": "execute_result"
    }
   ],
   "source": [
    "y"
   ]
  },
  {
   "cell_type": "code",
   "execution_count": 6,
   "metadata": {},
   "outputs": [
    {
     "data": {
      "text/plain": [
       "array(['At1', 'At2', 'At3', 'At4', 'At5', 'At6', 'At7'], dtype='<U3')"
      ]
     },
     "execution_count": 6,
     "metadata": {},
     "output_type": "execute_result"
    }
   ],
   "source": [
    "label_names"
   ]
  },
  {
   "cell_type": "code",
   "execution_count": 7,
   "metadata": {},
   "outputs": [],
   "source": [
    "# Angles classifier\n",
    "manigpclf = ManiGPClassifier(n_iter=100, fitness_function=\"angles\",pop_size=100)"
   ]
  },
  {
   "cell_type": "code",
   "execution_count": 8,
   "metadata": {},
   "outputs": [],
   "source": [
    "from sklearn.model_selection import train_test_split"
   ]
  },
  {
   "cell_type": "code",
   "execution_count": 9,
   "metadata": {},
   "outputs": [],
   "source": [
    "X_train, X_test, y_train, y_test = train_test_split(X, y,\n",
    "                                                        train_size=0.75,\n",
    "                                                        test_size=0.25,\n",
    "                                                        stratify=y,\n",
    "                                                        random_state=None)"
   ]
  },
  {
   "cell_type": "code",
   "execution_count": 10,
   "metadata": {},
   "outputs": [],
   "source": [
    "manigpclf.fit(X_train, y_train)"
   ]
  },
  {
   "cell_type": "code",
   "execution_count": 11,
   "metadata": {},
   "outputs": [
    {
     "data": {
      "text/plain": [
       "('left(modulus(x6, 55.63820713889929), x3)',\n",
       " 'addition(abs(modulus(x4, subtract(x5, x6))), addition(gt(1.0, x4), max(x0, x2)))',\n",
       " 2,\n",
       " 4)"
      ]
     },
     "execution_count": 11,
     "metadata": {},
     "output_type": "execute_result"
    }
   ],
   "source": [
    "from operator import attrgetter\n",
    "get_height = lambda tree : attrgetter('height')(tree)\n",
    "str(manigpclf.model[0]), str(manigpclf.model[1]), get_height(manigpclf.model[0]), get_height(manigpclf.model[1])"
   ]
  },
  {
   "cell_type": "code",
   "execution_count": 12,
   "metadata": {},
   "outputs": [
    {
     "data": {
      "text/plain": [
       "(0.9131944444444444,\n",
       " 'angles',\n",
       " {'cxpb': 0.1,\n",
       "  'fitness_function': 'angles',\n",
       "  'max_tree_height': 4,\n",
       "  'min_tree_height': 1,\n",
       "  'mutpb': 0.9,\n",
       "  'n_components': 2,\n",
       "  'n_iter': 100,\n",
       "  'pop_size': 100,\n",
       "  'predictor': 'kmeans',\n",
       "  'random_state': 3319,\n",
       "  'tourn_size': 7,\n",
       "  'weights': (1.0,)})"
      ]
     },
     "execution_count": 12,
     "metadata": {},
     "output_type": "execute_result"
    }
   ],
   "source": [
    "manigpclf.best_fitness, manigpclf.fitness_function, manigpclf.get_params()"
   ]
  },
  {
   "cell_type": "code",
   "execution_count": 13,
   "metadata": {},
   "outputs": [],
   "source": [
    "X_train_reduced = manigpclf.reduce(manigpclf.model, X_train)"
   ]
  },
  {
   "cell_type": "code",
   "execution_count": 14,
   "metadata": {},
   "outputs": [],
   "source": [
    "import matplotlib.pyplot as plt"
   ]
  },
  {
   "cell_type": "code",
   "execution_count": 15,
   "metadata": {},
   "outputs": [],
   "source": [
    "def plot(X, y): # 2 classes only\n",
    "    if (len(X.shape) != 2 or X.shape[1] != 2):\n",
    "        return\n",
    "    plt.scatter(X[y==0][:, 0], X[y==0][:, 1], s=2**6, c='r', alpha=0.33, label='0')\n",
    "    plt.scatter(X[y==1][:, 0], X[y==1][:, 1], c='b', marker='^', alpha=0.33, label='1')\n",
    "    plt.legend()\n",
    "\n",
    "def plot3classes(X,y):\n",
    "    plt.scatter(X[y==0][:, 0], X[y==0][:, 1], s=2**6, c='r', alpha=0.33, label='0')\n",
    "    plt.scatter(X[y==1][:, 0], X[y==1][:, 1], c='b', marker='^', alpha=0.33, label='1')\n",
    "    plt.scatter(X[y==2][:, 0], X[y==2][:, 1], c='g', marker='d', alpha=0.33, label='2')\n",
    "    plt.legend()"
   ]
  },
  {
   "cell_type": "code",
   "execution_count": 16,
   "metadata": {},
   "outputs": [],
   "source": [
    "%matplotlib inline"
   ]
  },
  {
   "cell_type": "code",
   "execution_count": 17,
   "metadata": {
    "scrolled": true
   },
   "outputs": [
    {
     "data": {
      "image/png": "[encoded data removed]",
      "text/plain": [
       "<Figure size 432x288 with 1 Axes>"
      ]
     },
     "metadata": {
      "needs_background": "light"
     },
     "output_type": "display_data"
    }
   ],
   "source": [
    "plot(X_train_reduced, y_train)"
   ]
  },
  {
   "cell_type": "code",
   "execution_count": 18,
   "metadata": {},
   "outputs": [
    {
     "data": {
      "text/plain": [
       "0.9131944444444444"
      ]
     },
     "execution_count": 18,
     "metadata": {},
     "output_type": "execute_result"
    }
   ],
   "source": [
    "manigpclf.evaluate(manigpclf.model, X_train, y_train, manigpclf.random_state)"
   ]
  },
  {
   "cell_type": "code",
   "execution_count": 19,
   "metadata": {},
   "outputs": [],
   "source": [
    "#-------------------------------------------------"
   ]
  },
  {
   "cell_type": "code",
   "execution_count": null,
   "metadata": {},
   "outputs": [],
   "source": []
  },
  {
   "cell_type": "code",
   "execution_count": 20,
   "metadata": {},
   "outputs": [],
   "source": [
    "X_test_reduced = manigpclf.reduce(manigpclf.model, X_test)"
   ]
  },
  {
   "cell_type": "code",
   "execution_count": 21,
   "metadata": {},
   "outputs": [
    {
     "data": {
      "image/png": "[encoded data removed]",
      "text/plain": [
       "<Figure size 432x288 with 1 Axes>"
      ]
     },
     "metadata": {
      "needs_background": "light"
     },
     "output_type": "display_data"
    }
   ],
   "source": [
    "plot(X_test_reduced, y_test)"
   ]
  },
  {
   "cell_type": "code",
   "execution_count": 22,
   "metadata": {},
   "outputs": [],
   "source": [
    "from utils.metrics import balanced_accuracy_score"
   ]
  },
  {
   "cell_type": "code",
   "execution_count": 23,
   "metadata": {},
   "outputs": [
    {
     "data": {
      "text/plain": [
       "0.4636363636363636"
      ]
     },
     "execution_count": 23,
     "metadata": {},
     "output_type": "execute_result"
    }
   ],
   "source": [
    "balanced_accuracy_score(y_test, manigpclf.predict(X_test))"
   ]
  },
  {
   "cell_type": "code",
   "execution_count": 24,
   "metadata": {},
   "outputs": [
    {
     "data": {
      "text/plain": [
       "4740"
      ]
     },
     "execution_count": 24,
     "metadata": {},
     "output_type": "execute_result"
    }
   ],
   "source": [
    "manigpclf.rejected"
   ]
  },
  {
   "cell_type": "code",
   "execution_count": 25,
   "metadata": {},
   "outputs": [
    {
     "data": {
      "text/plain": [
       "9633"
      ]
     },
     "execution_count": 25,
     "metadata": {},
     "output_type": "execute_result"
    }
   ],
   "source": [
    "manigpclf.mut_count"
   ]
  },
  {
   "cell_type": "code",
   "execution_count": 26,
   "metadata": {},
   "outputs": [
    {
     "data": {
      "text/plain": [
       "513"
      ]
     },
     "execution_count": 26,
     "metadata": {},
     "output_type": "execute_result"
    }
   ],
   "source": [
    "manigpclf.cx_count"
   ]
  },
  {
   "cell_type": "code",
   "execution_count": null,
   "metadata": {},
   "outputs": [],
   "source": []
  },
  {
   "cell_type": "code",
   "execution_count": 27,
   "metadata": {},
   "outputs": [
    {
     "data": {
      "text/plain": [
       "array([[ 1.25226131, -0.99873693],\n",
       "       [ 0.48442211,  1.45484946],\n",
       "       [ 0.54472362,  2.04211061],\n",
       "       [ 0.44020101,  0.78210005],\n",
       "       [ 1.35678392, -0.85641671],\n",
       "       [ 0.88643216,  0.31899748],\n",
       "       [ 0.21909548,  1.32409028],\n",
       "       [ 1.52964824, -0.44304942],\n",
       "       [ 0.22311558, -0.13282869],\n",
       "       [ 1.1758794 ,  1.11528198],\n",
       "       [ 0.00603015,  0.47002286],\n",
       "       [ 0.84623116,  2.77249494],\n",
       "       [ 0.87839196,  1.91750429],\n",
       "       [ 0.60904523, -0.27644976],\n",
       "       [ 0.35979899,  0.50826448],\n",
       "       [ 0.62914573, -0.30690587],\n",
       "       [ 0.85025126,  1.15605202],\n",
       "       [ 0.71356784, -0.12966381],\n",
       "       [ 0.64522613,  0.48280716],\n",
       "       [ 0.05829146,  0.06771724],\n",
       "       [ 1.40100503, -0.46969712],\n",
       "       [ 1.01507538, -0.78496266],\n",
       "       [ 1.53366834, -0.93038527],\n",
       "       [ 0.25527638,  0.44779889],\n",
       "       [ 0.35577889,  0.66197836],\n",
       "       [ 0.97889447,  0.25387721],\n",
       "       [ 0.19095477, -0.10670381],\n",
       "       [ 0.23517588,  0.67695154],\n",
       "       [ 0.33969849, -0.22046739],\n",
       "       [ 0.05427136,  0.34394487],\n",
       "       [ 0.31557789,  0.10602985],\n",
       "       [ 0.08643216,  0.1243877 ],\n",
       "       [ 0.34371859,  0.60382596],\n",
       "       [ 1.59798995, -1.27831966],\n",
       "       [ 0.01407035,  0.67698248],\n",
       "       [ 0.16281407,  1.50241925],\n",
       "       [ 0.3839196 ,  0.23419671],\n",
       "       [ 0.35979899,  0.38976341],\n",
       "       [ 0.18291457,  0.48654967],\n",
       "       [ 0.17889447,  0.22001958],\n",
       "       [ 1.2160804 ,  3.1571214 ],\n",
       "       [ 0.88643216,  1.30405284],\n",
       "       [ 0.12261307,  0.30886757],\n",
       "       [ 1.36080402, -0.78421914],\n",
       "       [ 0.33567839,  0.38031316],\n",
       "       [ 0.15477387,  0.27696901],\n",
       "       [ 0.77788945,  1.73000019],\n",
       "       [ 0.12261307,  0.1064871 ],\n",
       "       [ 0.18693467,  0.39141826],\n",
       "       [ 0.34371859,  0.3041069 ],\n",
       "       [ 0.23919598, -0.06527786],\n",
       "       [ 0.26733668,  0.38154579],\n",
       "       [ 0.48040201,  0.03896976],\n",
       "       [ 0.21507538, -0.08715057],\n",
       "       [ 0.73768844, -0.31567501],\n",
       "       [ 0.17487437,  0.47416482],\n",
       "       [ 0.89045226,  1.65833343],\n",
       "       [ 1.76683417,  3.39659086],\n",
       "       [ 0.31959799,  0.02685236],\n",
       "       [ 0.17889447, -0.11581546],\n",
       "       [ 0.48844221,  0.19973519],\n",
       "       [ 1.1758794 , -0.64346526],\n",
       "       [ 0.08241206,  0.97067472],\n",
       "       [ 0.70954774,  1.80703962],\n",
       "       [ 0.3919598 ,  1.53434212],\n",
       "       [ 1.46934673, -1.02876277],\n",
       "       [ 0.15879397,  0.28187864],\n",
       "       [ 1.42512563, -1.07309256],\n",
       "       [ 1.1758794 ,  1.        ],\n",
       "       [ 0.4120603 ,  0.63508275],\n",
       "       [ 0.25929648,  0.80911866],\n",
       "       [ 0.03819095,  0.45295844],\n",
       "       [ 0.49648241,  1.67403739],\n",
       "       [ 0.31557789,  0.03605452],\n",
       "       [ 0.15477387,  0.60361791],\n",
       "       [ 0.05427136,  0.17197482],\n",
       "       [ 1.63015075,  3.13919404],\n",
       "       [ 1.13969849,  1.20264506],\n",
       "       [ 1.11959799, -0.80545671]])"
      ]
     },
     "execution_count": 27,
     "metadata": {},
     "output_type": "execute_result"
    }
   ],
   "source": [
    "X_train_reduced"
   ]
  },
  {
   "cell_type": "code",
   "execution_count": 28,
   "metadata": {},
   "outputs": [],
   "source": []
  },
  {
   "cell_type": "code",
   "execution_count": null,
   "metadata": {},
   "outputs": [],
   "source": []
  },
  {
   "cell_type": "code",
   "execution_count": null,
   "metadata": {},
   "outputs": [],
   "source": []
  }
 ],
 "metadata": {
  "kernelspec": {
   "display_name": "Python 3",
   "language": "python",
   "name": "python3"
  },
  "language_info": {
   "codemirror_mode": {
    "name": "ipython",
    "version": 3
   },
   "file_extension": ".py",
   "mimetype": "text/x-python",
   "name": "python",
   "nbconvert_exporter": "python",
   "pygments_lexer": "ipython3",
   "version": "3.7.3"
  }
 },
 "nbformat": 4,
 "nbformat_minor": 2
}
